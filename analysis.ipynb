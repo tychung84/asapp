{
 "cells": [
  {
   "cell_type": "code",
   "execution_count": 248,
   "metadata": {
    "collapsed": false
   },
   "outputs": [],
   "source": [
    "#loads library and dictionary\n",
    "import json, re\n",
    "import cPickle\n",
    "import operator\n",
    "lookupDict = cPickle.load(open('lookupDict.p'))"
   ]
  },
  {
   "cell_type": "code",
   "execution_count": 246,
   "metadata": {
    "collapsed": false
   },
   "outputs": [],
   "source": [
    "def createDictionary(wordCount = 3, filename = 'lookupDict.p'):\n",
    "    # initialized file load and removes most contractions. Ideally, I'd also run a spell check, but would need a \n",
    "    # list of names + unique places, so I forgo that process.\n",
    "    k = json.load(open('sample_conversations.json'))\n",
    "    allIssues = k['Issues']\n",
    "    messageList = {}\n",
    "    lookupDict = {}\n",
    "    replaceDict = {\"'m\":' am', \"'ve\":' have', \"'ll\":\" will\", \"'d\":\" would\", \"'s\":\" is\", \"'re\":\" are\", \"  \":\" \", \"' s\": \" is\"}\n",
    "\n",
    "    # removes all customer texts and only takes in a lower-case version of the customer interaction, saved into a dict\n",
    "    for i in allIssues:\n",
    "        for msg in i['Messages']:\n",
    "            if not msg['IsFromCustomer']:\n",
    "                smallMsg = re.findall(r\"[\\w' ]+\", msg['Text'])\n",
    "\n",
    "                for sMsg in smallMsg:\n",
    "                    thisMessage = sMsg.strip().lower()\n",
    "\n",
    "                    if len(thisMessage) > 1:\n",
    "                        for item in replaceDict:\n",
    "                            thisMessage = thisMessage.replace(item, replaceDict[item])\n",
    "\n",
    "                        if thisMessage not in messageList.keys():\n",
    "                            messageList[thisMessage] = 1\n",
    "                        else:\n",
    "                            messageList[thisMessage] += 1\n",
    "\n",
    "    # uses the dictionary to create a master dictionary where the lookup will happen. The idea being that\n",
    "    # over time, commonly used phrases will be counted more often.\n",
    "    for keys in messageList:\n",
    "        location = 0\n",
    "        checker = 0\n",
    "        \n",
    "        for i in keys:\n",
    "            if checker < 3:\n",
    "                if i == ' ':\n",
    "                    checker += 1\n",
    "                location += 1\n",
    "\n",
    "        for i in range(1, location):\n",
    "            if keys[:i] not in lookupDict:\n",
    "                lookupDict[keys[:i]] = {}\n",
    "                lookupDict[keys[:i]][keys] = messageList[keys]\n",
    "            elif keys not in lookupDict[keys[:i]]:\n",
    "                lookupDict[keys[:i]][keys] = messageList[keys]\n",
    "\n",
    "    # pickles the file \n",
    "    f = file(filename, 'wb')\n",
    "    cPickle.dump(lookupDict, f)"
   ]
  },
  {
   "cell_type": "code",
   "execution_count": 267,
   "metadata": {
    "collapsed": true
   },
   "outputs": [],
   "source": [
    "def findPhrase(phrase):\n",
    "    # finds the phrase by first checking how many words there are\n",
    "        \n",
    "    wordCount = phrase.count(' ')\n",
    "    \n",
    "    # if there's only a few words, picks up the dictionary associate and sorts\n",
    "    if wordCount <= 2:\n",
    "        try:\n",
    "            thisDict = lookupDict[phrase]\n",
    "            sortedDict = sorted(thisDict.items(), key=operator.itemgetter(1), reverse=True)[:5]\n",
    "            return [x.capitalize().replace(' i ', ' I ') for (x,y) in sortedDict]\n",
    "        except KeyError:\n",
    "            return []\n",
    "    \n",
    "    # otherwise, picks up the dictionary assorted and only picks out relevant data\n",
    "    else:\n",
    "        location = 0\n",
    "        checker = 0\n",
    "        \n",
    "        for i in phrase:\n",
    "            if checker < 3:\n",
    "                if i == ' ':\n",
    "                    checker += 1\n",
    "                location += 1\n",
    "        \n",
    "        try:\n",
    "            thisDict = lookupDict[phrase[:location - 1]]\n",
    "            miniDict = {}\n",
    "            \n",
    "            for i in thisDict:\n",
    "                if i[:len(phrase)] == phrase:\n",
    "                    miniDict[i] = thisDict[i]\n",
    "                    \n",
    "            sortedDict = sorted(miniDict.items(), key=operator.itemgetter(1), reverse=True)[:5]\n",
    "            return [x.capitalize().replace(' i ', ' I ') for (x,y) in sortedDict]\n",
    "        except KeyError:\n",
    "            return []"
   ]
  },
  {
   "cell_type": "code",
   "execution_count": 273,
   "metadata": {
    "collapsed": false
   },
   "outputs": [
    {
     "data": {
      "text/plain": [
       "[u'Can I attempt recharging the card we have on file',\n",
       " u'Can you verify your phone number',\n",
       " u'Correct',\n",
       " u'Could you please provide me with your new address',\n",
       " u'Could you please provide me with your cellphone number']"
      ]
     },
     "execution_count": 273,
     "metadata": {},
     "output_type": "execute_result"
    }
   ],
   "source": [
    "# takes a couple of seconds to initialize dictionary\n",
    "createDictionary()\n",
    "lookupDict = cPickle.load(open('lookupDict.p'))\n",
    "# runs function\n",
    "\n",
    "myPhrase = 'c'\n",
    "findPhrase(myPhrase)\n",
    "\n"
   ]
  }
 ],
 "metadata": {
  "kernelspec": {
   "display_name": "Python 2",
   "language": "python",
   "name": "python2"
  },
  "language_info": {
   "codemirror_mode": {
    "name": "ipython",
    "version": 2
   },
   "file_extension": ".py",
   "mimetype": "text/x-python",
   "name": "python",
   "nbconvert_exporter": "python",
   "pygments_lexer": "ipython2",
   "version": "2.7.9"
  }
 },
 "nbformat": 4,
 "nbformat_minor": 0
}
